{
 "cells": [
  {
   "cell_type": "markdown",
   "id": "58b593f6",
   "metadata": {},
   "source": [
    "# Sets"
   ]
  },
  {
   "attachments": {},
   "cell_type": "markdown",
   "id": "18f2effe",
   "metadata": {},
   "source": [
    "Crear un conjunto en Python que posea los siguientes elementos:\n",
    "\n",
    "Colores: Rojo, Blanco, Azul.\n",
    "\n",
    "Posteriormente agrega nuestro set de colores, los valores de: Violeta y Dorado\n",
    "\n",
    "Elimina a los colores: Celeste, Blanco y Dorado\n",
    "\n",
    "Pregunta:\n",
    "¿Que pasa si queremos eliminar el color Celeste utilizando el método discard?"
   ]
  },
  {
   "cell_type": "code",
   "execution_count": 5,
   "id": "d32af1bd",
   "metadata": {},
   "outputs": [
    {
     "name": "stdout",
     "output_type": "stream",
     "text": [
      "{'Rojo', 'Blanco', 'Azul'}\n"
     ]
    }
   ],
   "source": [
    "Colores = {\"Rojo\", \"Blanco\", \"Azul\"}\n",
    "print(Colores)"
   ]
  },
  {
   "cell_type": "code",
   "execution_count": 6,
   "id": "4b66036b",
   "metadata": {},
   "outputs": [
    {
     "name": "stdout",
     "output_type": "stream",
     "text": [
      "{'Violeta', 'Blanco', 'Dorado', 'Rojo', 'Azul'}\n"
     ]
    }
   ],
   "source": [
    "Colores.add(\"Violeta\")\n",
    "Colores.add(\"Dorado\")\n",
    "print(Colores)"
   ]
  },
  {
   "cell_type": "code",
   "execution_count": 7,
   "id": "8ccad08d",
   "metadata": {},
   "outputs": [
    {
     "name": "stdout",
     "output_type": "stream",
     "text": [
      "{'Violeta', 'Rojo', 'Azul'}\n"
     ]
    }
   ],
   "source": [
    "Colores.discard(\"Celeste\")\n",
    "Colores.discard(\"Blanco\")\n",
    "Colores.discard(\"Dorado\")\n",
    "print(Colores)\n",
    "\n",
    "#El elemento Celeste no existe pero al utilizar el metodo de discard no obtenemos ningun error asociado"
   ]
  },
  {
   "attachments": {},
   "cell_type": "markdown",
   "id": "1d69848d",
   "metadata": {},
   "source": [
    "**Practica Complementaria - Sets**\n",
    "\n",
    "Crear un conjunto en Python que posea los siguientes elementos:\n",
    "\n",
    "Países: Inglaterra, USA, Mexico.\n",
    "\n",
    "Posteriormente agrega nuestro set de países, los elementos de: Islandia, Italia, Argentina y Portugal.\n",
    "\n",
    "Elimina a los países: Chile e Italia\n",
    "\n",
    "Pregunta:\n",
    "¿Que pasa si queremos eliminar al pais Chile utilizando el método remove?\n"
   ]
  },
  {
   "cell_type": "code",
   "execution_count": 8,
   "id": "c2980b5e",
   "metadata": {},
   "outputs": [
    {
     "name": "stdout",
     "output_type": "stream",
     "text": [
      "{'Inglaterra', 'USA', 'Mexico'}\n"
     ]
    }
   ],
   "source": [
    "Paises = {\"Inglaterra\", \"USA\", \"Mexico\"}\n",
    "print(Paises)"
   ]
  },
  {
   "cell_type": "code",
   "execution_count": 11,
   "id": "558de342",
   "metadata": {},
   "outputs": [
    {
     "name": "stdout",
     "output_type": "stream",
     "text": [
      "{'Argentina', 'Portugal', 'Italia', 'Mexico', 'Islandia', 'Inglaterra', 'USA'}\n"
     ]
    }
   ],
   "source": [
    "Paises.add(\"Islandia\")\n",
    "Paises.add(\"Italia\")\n",
    "Paises.add(\"Argentina\")\n",
    "Paises.add(\"Portugal\")\n",
    "Paises.add(\"USA\")\n",
    "print(Paises)"
   ]
  },
  {
   "cell_type": "code",
   "execution_count": 12,
   "id": "83436200",
   "metadata": {},
   "outputs": [
    {
     "ename": "KeyError",
     "evalue": "'Chile'",
     "output_type": "error",
     "traceback": [
      "\u001b[1;31m---------------------------------------------------------------------------\u001b[0m",
      "\u001b[1;31mKeyError\u001b[0m                                  Traceback (most recent call last)",
      "Input \u001b[1;32mIn [12]\u001b[0m, in \u001b[0;36m<cell line: 1>\u001b[1;34m()\u001b[0m\n\u001b[1;32m----> 1\u001b[0m \u001b[43mPaises\u001b[49m\u001b[38;5;241;43m.\u001b[39;49m\u001b[43mremove\u001b[49m\u001b[43m(\u001b[49m\u001b[38;5;124;43m\"\u001b[39;49m\u001b[38;5;124;43mChile\u001b[39;49m\u001b[38;5;124;43m\"\u001b[39;49m\u001b[43m)\u001b[49m\n",
      "\u001b[1;31mKeyError\u001b[0m: 'Chile'"
     ]
    }
   ],
   "source": [
    "Paises.remove(\"Chile\")"
   ]
  },
  {
   "cell_type": "code",
   "execution_count": 13,
   "id": "3b152bb9",
   "metadata": {},
   "outputs": [
    {
     "name": "stdout",
     "output_type": "stream",
     "text": [
      "{'Portugal', 'Italia', 'Mexico', 'Islandia', 'Inglaterra', 'USA'}\n"
     ]
    }
   ],
   "source": [
    "Paises.remove(\"Argentina\")\n",
    "print(Paises)"
   ]
  },
  {
   "cell_type": "code",
   "execution_count": null,
   "id": "e63eaada",
   "metadata": {},
   "outputs": [],
   "source": [
    "#El elemento USA al ya existir no se volvio a eliminar. Finalmente la opcion de remove nos arroja error porque \n",
    "#el pais de Chile no existe"
   ]
  },
  {
   "cell_type": "markdown",
   "id": "7b9d5b58",
   "metadata": {},
   "source": [
    "# Diccionarios"
   ]
  },
  {
   "cell_type": "markdown",
   "id": "e095b6cd",
   "metadata": {},
   "source": [
    "Consigna:\n",
    "    \n",
    "Crear un diccionario que almacene a los ganadores de la Copa Mundial de la FIFA desde el año 1990 al 2018."
   ]
  },
  {
   "cell_type": "code",
   "execution_count": 17,
   "id": "386564a1",
   "metadata": {},
   "outputs": [
    {
     "name": "stdout",
     "output_type": "stream",
     "text": [
      "{1990: 'Alemania', 1994: 'Brasil', 1998: 'Francia', 2002: 'Brasil', 2006: 'Itália', 2010: 'España', 2014: 'Alemania', 2018: 'Francia'}\n"
     ]
    }
   ],
   "source": [
    "copa_fifa = {1990: 'Alemania', 1994: 'Brasil', 1998: 'Francia',\n",
    "             2002: 'Brasil', 2006: 'Itália', 2010: 'España',\n",
    "             2014: 'Alemania', 2018: 'Francia'}\n",
    "print(copa_fifa)"
   ]
  },
  {
   "cell_type": "code",
   "execution_count": 18,
   "id": "69024313",
   "metadata": {},
   "outputs": [
    {
     "name": "stdout",
     "output_type": "stream",
     "text": [
      "España\n"
     ]
    }
   ],
   "source": [
    "print(copa_fifa[2010])"
   ]
  },
  {
   "cell_type": "markdown",
   "id": "58a047ed",
   "metadata": {},
   "source": [
    "**Practica complementaria Diccionarios **\n",
    "\n",
    "Escribir un programa que le solicite al usuario su nombre, edad, dirección y que posteriormente lo muestre por pantalla:\n",
    "\n",
    "Ejemplo del output solicitado: \n",
    "* Juan tiene 25 años, y vive en Carrera 7 - Bogotá"
   ]
  },
  {
   "cell_type": "code",
   "execution_count": 19,
   "id": "1896834d",
   "metadata": {},
   "outputs": [
    {
     "name": "stdout",
     "output_type": "stream",
     "text": [
      "¿Cómo te llamas? Juan\n",
      "¿Cuántos años tienes? 25\n",
      "¿Cuál es tu dirección? Carrera 7 - Bogota\n",
      "Juan tiene 25 años, y vive en Carrera 7 - Bogota\n"
     ]
    }
   ],
   "source": [
    "nombre = input('¿Cómo te llamas? ')\n",
    "edad = input('¿Cuántos años tienes? ')\n",
    "direccion = input('¿Cuál es tu dirección? ')\n",
    "usuario = {'nombre': nombre, 'edad': edad, 'direccion': direccion}\n",
    "print(usuario['nombre'], 'tiene', usuario['edad'], 'años, y vive en', usuario['direccion'])"
   ]
  }
 ],
 "metadata": {
  "kernelspec": {
   "display_name": "Python 3 (ipykernel)",
   "language": "python",
   "name": "python3"
  },
  "language_info": {
   "codemirror_mode": {
    "name": "ipython",
    "version": 3
   },
   "file_extension": ".py",
   "mimetype": "text/x-python",
   "name": "python",
   "nbconvert_exporter": "python",
   "pygments_lexer": "ipython3",
   "version": "3.8.8"
  },
  "varInspector": {
   "cols": {
    "lenName": 16,
    "lenType": 16,
    "lenVar": 40
   },
   "kernels_config": {
    "python": {
     "delete_cmd_postfix": "",
     "delete_cmd_prefix": "del ",
     "library": "var_list.py",
     "varRefreshCmd": "print(var_dic_list())"
    },
    "r": {
     "delete_cmd_postfix": ") ",
     "delete_cmd_prefix": "rm(",
     "library": "var_list.r",
     "varRefreshCmd": "cat(var_dic_list()) "
    }
   },
   "types_to_exclude": [
    "module",
    "function",
    "builtin_function_or_method",
    "instance",
    "_Feature"
   ],
   "window_display": false
  }
 },
 "nbformat": 4,
 "nbformat_minor": 5
}
