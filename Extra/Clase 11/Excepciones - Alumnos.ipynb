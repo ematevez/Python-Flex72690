{
 "cells": [
  {
   "cell_type": "markdown",
   "id": "f424e837",
   "metadata": {},
   "source": [
    "# Excepciones"
   ]
  },
  {
   "cell_type": "markdown",
   "id": "88b349f8",
   "metadata": {},
   "source": [
    "Las excepciones son bloques de código que nos permiten poder continuar con la ejecución de un programa aunque ocurra un error. ara prevenir el posible fallo debemos poner el código que puede fallar dentro de un bloque try y luego encadenar otro bloque except para tratar la situación excepcional y procesarla."
   ]
  },
  {
   "cell_type": "code",
   "execution_count": 1,
   "id": "61b6fbeb",
   "metadata": {},
   "outputs": [
    {
     "name": "stdout",
     "output_type": "stream",
     "text": [
      "17\n"
     ]
    }
   ],
   "source": [
    "#Ejemplo 1\n",
    "a = 7\n",
    "b = 10\n",
    "try:\n",
    "   print(a + b)\n",
    "except:\n",
    "   print(\"Ha ocurrido un error al sumar.\")"
   ]
  },
  {
   "cell_type": "code",
   "execution_count": 2,
   "id": "b9320d60",
   "metadata": {},
   "outputs": [
    {
     "name": "stdout",
     "output_type": "stream",
     "text": [
      "Ha ocurrido un error al sumar.\n"
     ]
    }
   ],
   "source": [
    "#Ejemplo 2\n",
    "a = 7\n",
    "b = \"texto\"\n",
    "try:\n",
    "   print(a + b)\n",
    "except:\n",
    "   print(\"Ha ocurrido un error al sumar.\")"
   ]
  },
  {
   "attachments": {},
   "cell_type": "markdown",
   "id": "f705ad12",
   "metadata": {},
   "source": [
    "La sentencia try funciona de la siguiente manera:\n",
    "\n",
    "* Se ejecuta el bloque try (el código entre las sentencias try y except).\n",
    "\n",
    "* Si no ocurre ninguna excepción, el bloque except se saltea y termina la ejecución de la sentencia try."
   ]
  },
  {
   "cell_type": "markdown",
   "id": "373ab230",
   "metadata": {},
   "source": [
    "Como vemos esta forma nos permite controlar situaciones excepcionales que generalmente darían error y en su lugar mostrar un mensaje o ejecutar una pieza de código alternativo. Podemos aprovechar las excepciones para, por ejemplo, forzar al usuario a introducir dos números haciendo uso de un bucle while, repitiendo la lectura por teclado hasta que lo haga bien y entonces romper el bucle con un break:"
   ]
  },
  {
   "cell_type": "code",
   "execution_count": 1,
   "id": "0697566d",
   "metadata": {},
   "outputs": [],
   "source": [
    "#¿Como seria?\n",
    "\n",
    "    ###Completar"
   ]
  },
  {
   "cell_type": "markdown",
   "id": "86bdd59e",
   "metadata": {},
   "source": [
    "Entonces en definitiva.... \n",
    "\n",
    "**Try - Except nos permite controlar situaciones excepcionales que generalmente darían error y en su lugar permite mostrar un mensaje o ejecutar una pieza de código alternativo.**\n"
   ]
  },
  {
   "cell_type": "markdown",
   "id": "523d3f18",
   "metadata": {},
   "source": [
    "BLOQUE ELSE\n",
    "\n",
    "Es posible encadenar un bloque else después del except para comprobar el caso en que todo funcione correctamente (no se ejecuta la excepción). El bloque else es un buen momento para romper la iteración con break si todo funciona correctamente:"
   ]
  },
  {
   "cell_type": "code",
   "execution_count": 2,
   "id": "80cb9f50",
   "metadata": {},
   "outputs": [
    {
     "name": "stdout",
     "output_type": "stream",
     "text": [
      "Introduce un número: texto\n",
      "Ha ocurrido un error. Tienes que introducir 2 números.\n",
      "Introduce un número: texto\n",
      "Ha ocurrido un error. Tienes que introducir 2 números.\n",
      "Introduce un número: 4\n",
      "Introduce otro número: texto\n",
      "Ha ocurrido un error. Tienes que introducir 2 números.\n",
      "Introduce un número: 10\n",
      "Introduce otro número: 10\n",
      "20.0\n",
      "La suma se ha realizado correctamente.\n"
     ]
    }
   ],
   "source": [
    "while (True):\n",
    "   try:  \n",
    "      a = float(input(\"Introduce un número: \"))\n",
    "      b = float(input(\"Introduce otro número: \"))\n",
    "      print(a + b)\n",
    "   except:\n",
    "      print(\"Ha ocurrido un error. Tienes que introducir 2 números.\")\n",
    "   else:\n",
    "      print(\"La suma se ha realizado correctamente.\")\n",
    "      break  # Importante romper la iteración si todo ha ido bien."
   ]
  },
  {
   "cell_type": "markdown",
   "id": "a6d92947",
   "metadata": {},
   "source": [
    "BLOQUE FINALLY\n",
    "\n",
    "Por último es posible utilizar un bloque finally que se ejecute al final del código, ocurra o no ocurra un error:"
   ]
  },
  {
   "cell_type": "code",
   "execution_count": 5,
   "id": "71e613e9",
   "metadata": {},
   "outputs": [
    {
     "name": "stdout",
     "output_type": "stream",
     "text": [
      "Introduce un número: texto\n",
      "Ha ocurrido un error. Tienes que introducir 2 números.\n",
      "Fin del bucle\n",
      "Introduce un número:  texto\n",
      "Ha ocurrido un error. Tienes que introducir 2 números.\n",
      "Fin del bucle\n",
      "Introduce un número: 15\n",
      "Introduce otro número: 15\n",
      "30.0\n",
      "La suma se ha realizado correctamente.\n",
      "Fin del bucle\n"
     ]
    }
   ],
   "source": [
    "while (True):\n",
    "   try:   \n",
    "      a = float(input(\"Introduce un número: \"))\n",
    "      b = float(input(\"Introduce otro número: \"))\n",
    "      print(a + b)\n",
    "   except:\n",
    "      print(\"Ha ocurrido un error. Tienes que introducir 2 números.\")\n",
    "   else:\n",
    "      print(\"La suma se ha realizado correctamente.\")\n",
    "      break   # Importante romper la iteración si todo ha ido bien.\n",
    "   finally:\n",
    "      print(\"Fin del bucle\") # Esto se ejecuta siempre."
   ]
  },
  {
   "cell_type": "markdown",
   "id": "90249ad9",
   "metadata": {},
   "source": [
    "EXCEPCIONES MÚLTIPLES\n",
    "\n",
    "En un mismo fragmento de código pueden ocurrir muchos errores diferentes y quizá nos interese actuar de forma diferente en cada caso. Para esas situaciones algo que podemos hacer es asignar una excepción a una variable. De esta forma es posible analizar el tipo de error que sucede gracias a su identificador.\n",
    "\n",
    "Imaginemos un ejemplo en el que queremos dividir 20 entre un número que el usuario introduce por teclado (20 / numero). Pueden ocurrir varios tipos de errores: que el usuario introduzca una cadena, que introduzca un cero... Vamos a asignar la excepción a una variable y así veremos el tipo de error que se produce."
   ]
  },
  {
   "cell_type": "code",
   "execution_count": 12,
   "id": "036b73e8",
   "metadata": {},
   "outputs": [
    {
     "name": "stdout",
     "output_type": "stream",
     "text": [
      "Introduce un número: texto\n",
      "Ha ocurrido el siguiente error -> ValueError\n"
     ]
    }
   ],
   "source": [
    "#Veamos un ejemplo ingresando una variable de texto\n",
    "try:\n",
    "   numero = float(input(\"Introduce un número: \"))\n",
    "   resultado = numero/numero\n",
    "except Exception as e:  # Guardamos la excepción en la variable e\n",
    "   print(\"Ha ocurrido el siguiente error ->\", type(e).__name__)"
   ]
  },
  {
   "cell_type": "code",
   "execution_count": 13,
   "id": "13acec27",
   "metadata": {},
   "outputs": [
    {
     "name": "stdout",
     "output_type": "stream",
     "text": [
      "Introduce un número: 0\n",
      "Ha ocurrido el siguiente error -> ZeroDivisionError\n"
     ]
    }
   ],
   "source": [
    "#Veamos ahora el mismo ejemplo pero ingresando un 0\n",
    "try:\n",
    "   numero = float(input(\"Introduce un número: \"))\n",
    "   resultado = numero/numero\n",
    "except Exception as e:  # Guardamos la excepción en la variable e\n",
    "   print(\"Ha ocurrido el siguiente error ->\", type(e).__name__)"
   ]
  },
  {
   "cell_type": "code",
   "execution_count": 15,
   "id": "730288fd",
   "metadata": {},
   "outputs": [
    {
     "name": "stdout",
     "output_type": "stream",
     "text": [
      "Introduce un número: 5\n",
      "1.0\n"
     ]
    }
   ],
   "source": [
    "#Sin errores, por ejemplo agregando un nro 5\n",
    "try:\n",
    "   numero = float(input(\"Introduce un número: \"))\n",
    "   resultado = numero/numero\n",
    "   print(resultado)\n",
    "except Exception as e:  # Guardamos la excepción en la variable e\n",
    "   print(\"Ha ocurrido el siguiente error ->\", type(e).__name__)"
   ]
  }
 ],
 "metadata": {
  "kernelspec": {
   "display_name": "Python 3 (ipykernel)",
   "language": "python",
   "name": "python3"
  },
  "language_info": {
   "codemirror_mode": {
    "name": "ipython",
    "version": 3
   },
   "file_extension": ".py",
   "mimetype": "text/x-python",
   "name": "python",
   "nbconvert_exporter": "python",
   "pygments_lexer": "ipython3",
   "version": "3.9.12"
  },
  "varInspector": {
   "cols": {
    "lenName": 16,
    "lenType": 16,
    "lenVar": 40
   },
   "kernels_config": {
    "python": {
     "delete_cmd_postfix": "",
     "delete_cmd_prefix": "del ",
     "library": "var_list.py",
     "varRefreshCmd": "print(var_dic_list())"
    },
    "r": {
     "delete_cmd_postfix": ") ",
     "delete_cmd_prefix": "rm(",
     "library": "var_list.r",
     "varRefreshCmd": "cat(var_dic_list()) "
    }
   },
   "types_to_exclude": [
    "module",
    "function",
    "builtin_function_or_method",
    "instance",
    "_Feature"
   ],
   "window_display": false
  }
 },
 "nbformat": 4,
 "nbformat_minor": 5
}
