{
 "cells": [
  {
   "cell_type": "markdown",
   "metadata": {
    "id": "Djst0v9qZ5ck"
   },
   "source": [
    "# Variables Numéricas"
   ]
  },
  {
   "cell_type": "code",
   "execution_count": 7,
   "metadata": {
    "id": "QBqT4JbtZ5c2"
   },
   "outputs": [],
   "source": [
    "#Vamos a crear nuestras primeras variables en Python\n",
    "x = 12"
   ]
  },
  {
   "cell_type": "code",
   "execution_count": 8,
   "metadata": {
    "colab": {
     "base_uri": "https://localhost:8080/"
    },
    "id": "hZOxqnjCWwLT",
    "outputId": "87b60c8c-b41c-4aff-bb0e-29faaa3dcbef"
   },
   "outputs": [
    {
     "data": {
      "text/plain": [
       "12"
      ]
     },
     "execution_count": 8,
     "metadata": {},
     "output_type": "execute_result"
    }
   ],
   "source": [
    "x"
   ]
  },
  {
   "cell_type": "code",
   "execution_count": 9,
   "metadata": {
    "id": "qjyITqUqWwFV"
   },
   "outputs": [],
   "source": [
    "y = 13.5"
   ]
  },
  {
   "cell_type": "code",
   "execution_count": 10,
   "metadata": {
    "colab": {
     "base_uri": "https://localhost:8080/"
    },
    "id": "dYdwlGivWv7h",
    "outputId": "ac3407f8-b85f-477d-aa6c-a8d69e919fe4"
   },
   "outputs": [
    {
     "data": {
      "text/plain": [
       "13.5"
      ]
     },
     "execution_count": 10,
     "metadata": {},
     "output_type": "execute_result"
    }
   ],
   "source": [
    "y"
   ]
  },
  {
   "cell_type": "code",
   "execution_count": 11,
   "metadata": {
    "colab": {
     "base_uri": "https://localhost:8080/"
    },
    "id": "wUELwShVeWm1",
    "outputId": "23fbd47b-691b-4dd1-aaba-ff9137e16267"
   },
   "outputs": [
    {
     "data": {
      "text/plain": [
       "int"
      ]
     },
     "execution_count": 11,
     "metadata": {},
     "output_type": "execute_result"
    }
   ],
   "source": [
    "#Visualizamos el tipo de dato de x\n",
    "type(x) "
   ]
  },
  {
   "cell_type": "code",
   "execution_count": 12,
   "metadata": {
    "colab": {
     "base_uri": "https://localhost:8080/"
    },
    "id": "3Xc8hjm_eWho",
    "outputId": "d58e5d12-79c5-40a2-b180-a890d07a496f"
   },
   "outputs": [
    {
     "data": {
      "text/plain": [
       "float"
      ]
     },
     "execution_count": 12,
     "metadata": {},
     "output_type": "execute_result"
    }
   ],
   "source": [
    "#Visualizamos el tipo de dato de y\n",
    "type(y)"
   ]
  },
  {
   "cell_type": "code",
   "execution_count": 13,
   "metadata": {},
   "outputs": [
    {
     "name": "stdout",
     "output_type": "stream",
     "text": [
      "5\n",
      "Paul\n"
     ]
    }
   ],
   "source": [
    "#Veamos mas ejemplos:\n",
    "x = 5\n",
    "y = \"Paul\"\n",
    "print(x)\n",
    "print(y)"
   ]
  },
  {
   "cell_type": "code",
   "execution_count": 14,
   "metadata": {},
   "outputs": [],
   "source": [
    "#Si deseamos definir el tipo de dato de una variable podemos por ejmplo hacer lo siguiente:\n",
    "x = str(5)    # x sera '5'\n",
    "y = int(5)    # y sera 5\n",
    "z = float(5)  # z sera 5.0"
   ]
  },
  {
   "cell_type": "code",
   "execution_count": 15,
   "metadata": {},
   "outputs": [
    {
     "name": "stdout",
     "output_type": "stream",
     "text": [
      "5\n",
      "5\n",
      "5.0\n"
     ]
    }
   ],
   "source": [
    "print(x)\n",
    "print(y)\n",
    "print(z)"
   ]
  },
  {
   "cell_type": "code",
   "execution_count": 16,
   "metadata": {},
   "outputs": [],
   "source": [
    "#Importante: Python es Case Sentitive, el siguiente codigo creara 2 variables:\n",
    "a = 4\n",
    "A = \"Susan\""
   ]
  },
  {
   "cell_type": "markdown",
   "metadata": {},
   "source": [
    "Nombres aceptados para las variables:"
   ]
  },
  {
   "cell_type": "code",
   "execution_count": 17,
   "metadata": {},
   "outputs": [],
   "source": [
    "myvar = \"Susan\"\n",
    "my_var = \"Susan\"\n",
    "_my_var = \"Susan\"\n",
    "myVar = \"Susan\"\n",
    "MYVAR = \"Susan\"\n",
    "myvar2 = \"Susan\""
   ]
  },
  {
   "cell_type": "markdown",
   "metadata": {},
   "source": [
    "Nombres no aceptados para las variables:"
   ]
  },
  {
   "cell_type": "code",
   "execution_count": 18,
   "metadata": {},
   "outputs": [
    {
     "ename": "SyntaxError",
     "evalue": "invalid syntax (2185399839.py, line 1)",
     "output_type": "error",
     "traceback": [
      "\u001b[1;36m  Input \u001b[1;32mIn [18]\u001b[1;36m\u001b[0m\n\u001b[1;33m    2myvar = \"John\"\u001b[0m\n\u001b[1;37m     ^\u001b[0m\n\u001b[1;31mSyntaxError\u001b[0m\u001b[1;31m:\u001b[0m invalid syntax\n"
     ]
    }
   ],
   "source": [
    "2myvar = \"John\"\n",
    "my-var = \"John\"\n",
    "my var = \"John\""
   ]
  },
  {
   "cell_type": "code",
   "execution_count": null,
   "metadata": {},
   "outputs": [],
   "source": [
    "#Muchos valores para múltiples variables\n",
    "x, y, z = \"Naranja\", \"Manzana\", \"Cherry\"\n",
    "\n",
    "print(x)\n",
    "print(y)\n",
    "print(z)"
   ]
  },
  {
   "cell_type": "code",
   "execution_count": null,
   "metadata": {},
   "outputs": [],
   "source": [
    "#Un valor para múltiples variables\n",
    "x = y = z = \"Naranja\"\n",
    "print(x)\n",
    "print(y)\n",
    "print(z)"
   ]
  },
  {
   "cell_type": "code",
   "execution_count": null,
   "metadata": {},
   "outputs": [],
   "source": [
    "#Ejercicio 1: Crea una variable llamada Auto y asignale el valor de Mercedes Benz.\n",
    "\n",
    "Auto = \"Mercedes Benz\""
   ]
  },
  {
   "cell_type": "code",
   "execution_count": null,
   "metadata": {},
   "outputs": [],
   "source": [
    "#Ejercicio 2: Elimine los caracteres ilegales en el nombre de la variable:\n",
    "\n",
    "my_first_name = \"Melannie\""
   ]
  },
  {
   "cell_type": "code",
   "execution_count": null,
   "metadata": {},
   "outputs": [],
   "source": [
    "#Ejercicio 3: Cree una variable llamada curso y asígnele el valor Python.\n",
    "\n",
    "curso = \"Python\""
   ]
  },
  {
   "cell_type": "markdown",
   "metadata": {
    "id": "Zf_2pxLdpwqP"
   },
   "source": [
    "## Conversión de variables numéricas"
   ]
  },
  {
   "cell_type": "code",
   "execution_count": null,
   "metadata": {
    "id": "SZ90wKBGoXax"
   },
   "outputs": [],
   "source": [
    "x = 4.6\n",
    "y = 5.4"
   ]
  },
  {
   "cell_type": "code",
   "execution_count": null,
   "metadata": {
    "colab": {
     "base_uri": "https://localhost:8080/"
    },
    "id": "pz7E6znopvCt",
    "outputId": "9079ccaf-c1e1-4332-fc9a-a38f27b9b0d4"
   },
   "outputs": [],
   "source": [
    "#Con esta función estamos convirtiendo a la variable x en una variable de tipo int\n",
    "z = int(x)\n",
    "z"
   ]
  },
  {
   "cell_type": "code",
   "execution_count": null,
   "metadata": {
    "colab": {
     "base_uri": "https://localhost:8080/"
    },
    "id": "O0438vQMpu_g",
    "outputId": "83bce14f-d212-4730-f1b7-68f985f7681e"
   },
   "outputs": [],
   "source": [
    "#La función round redondea el número al valor superior más próximo\n",
    "z = round(x)\n",
    "z"
   ]
  },
  {
   "cell_type": "code",
   "execution_count": null,
   "metadata": {
    "colab": {
     "base_uri": "https://localhost:8080/"
    },
    "id": "kCFcrnXupuyJ",
    "outputId": "8080e74f-4a97-48b0-e3de-d8a588364679"
   },
   "outputs": [],
   "source": [
    "#Veamos nuevamente el tipo de dato de x\n",
    "x = 4\n",
    "type(x)"
   ]
  },
  {
   "cell_type": "code",
   "execution_count": null,
   "metadata": {
    "colab": {
     "base_uri": "https://localhost:8080/"
    },
    "id": "9obD8peRoc_Z",
    "outputId": "858758dc-b964-46fb-a948-c28e45d33c8a"
   },
   "outputs": [],
   "source": [
    "#Convertimos en flotante\n",
    "z = float(x)\n",
    "z"
   ]
  },
  {
   "cell_type": "code",
   "execution_count": null,
   "metadata": {
    "colab": {
     "base_uri": "https://localhost:8080/"
    },
    "id": "zkgi3q6Xoc8p",
    "outputId": "1117b17d-2cf1-449c-a40a-1fa6a5ed4529"
   },
   "outputs": [],
   "source": [
    "type(z)"
   ]
  },
  {
   "cell_type": "markdown",
   "metadata": {
    "id": "7D9w2keoZ5dB"
   },
   "source": [
    "# Strings"
   ]
  },
  {
   "cell_type": "code",
   "execution_count": null,
   "metadata": {
    "id": "LCMkTrzw-s9H"
   },
   "outputs": [],
   "source": [
    "saludo = \"Hola mundo!\""
   ]
  },
  {
   "cell_type": "code",
   "execution_count": null,
   "metadata": {
    "colab": {
     "base_uri": "https://localhost:8080/"
    },
    "id": "bA6kViAs-s0c",
    "outputId": "a78e1574-645e-4ecb-9802-42a0f858f035"
   },
   "outputs": [],
   "source": [
    "type(saludo)"
   ]
  },
  {
   "cell_type": "code",
   "execution_count": null,
   "metadata": {
    "colab": {
     "base_uri": "https://localhost:8080/"
    },
    "id": "8ltOAcKw9lKM",
    "outputId": "4c3e85e8-157f-4391-84f9-f516e0180e78"
   },
   "outputs": [],
   "source": [
    "print(saludo)"
   ]
  },
  {
   "cell_type": "code",
   "execution_count": null,
   "metadata": {},
   "outputs": [],
   "source": [
    "#Cadenas multilínea\n",
    "a = \"\"\"Lorem ipsum dolor sit amet,\n",
    "consectetur adipiscing elit,\n",
    "sed do eiusmod tempor incididunt\n",
    "ut labore et dolore magna aliqua.\"\"\"\n",
    "print(a)"
   ]
  },
  {
   "cell_type": "code",
   "execution_count": null,
   "metadata": {},
   "outputs": [],
   "source": [
    "#Formateo de Strings: Si yo intento combinar strings con nros obtendremos un error:\n",
    "edad = 36\n",
    "txt = \"Mi nombre es John, y tengo \" + edad\n",
    "print(txt)"
   ]
  },
  {
   "cell_type": "code",
   "execution_count": null,
   "metadata": {},
   "outputs": [],
   "source": [
    "# Funcion format()\n",
    "edad = 36\n",
    "txt = \"Mi nombre es John, y tengo {}\"\n",
    "print(txt.format(edad))"
   ]
  },
  {
   "cell_type": "markdown",
   "metadata": {},
   "source": [
    "# Input"
   ]
  },
  {
   "cell_type": "code",
   "execution_count": 1,
   "metadata": {},
   "outputs": [
    {
     "name": "stdout",
     "output_type": "stream",
     "text": [
      "Ingrese su nombre: Juan\n",
      "Ingrese su edad: 25\n",
      "Juan\n",
      "25\n"
     ]
    }
   ],
   "source": [
    "nombre = input(\"Ingrese su nombre: \")\n",
    "edad = int(input(\"Ingrese su edad: \"))\n",
    "print(nombre)\n",
    "print(edad)"
   ]
  },
  {
   "cell_type": "code",
   "execution_count": 1,
   "metadata": {},
   "outputs": [
    {
     "name": "stdout",
     "output_type": "stream",
     "text": [
      "Layla\n"
     ]
    }
   ],
   "source": [
    "#Otro ejemplo\n",
    "miNombre = input()"
   ]
  },
  {
   "cell_type": "code",
   "execution_count": 2,
   "metadata": {},
   "outputs": [
    {
     "name": "stdout",
     "output_type": "stream",
     "text": [
      "Me alegro de conocerte, Layla\n"
     ]
    }
   ],
   "source": [
    "print('Me alegro de conocerte, ' + miNombre)"
   ]
  }
 ],
 "metadata": {
  "colab": {
   "collapsed_sections": [],
   "name": "Ejemplo_en_vivo.ipynb",
   "provenance": []
  },
  "kernelspec": {
   "display_name": "Python 3 (ipykernel)",
   "language": "python",
   "name": "python3"
  },
  "language_info": {
   "codemirror_mode": {
    "name": "ipython",
    "version": 3
   },
   "file_extension": ".py",
   "mimetype": "text/x-python",
   "name": "python",
   "nbconvert_exporter": "python",
   "pygments_lexer": "ipython3",
   "version": "3.8.8"
  },
  "varInspector": {
   "cols": {
    "lenName": 16,
    "lenType": 16,
    "lenVar": 40
   },
   "kernels_config": {
    "python": {
     "delete_cmd_postfix": "",
     "delete_cmd_prefix": "del ",
     "library": "var_list.py",
     "varRefreshCmd": "print(var_dic_list())"
    },
    "r": {
     "delete_cmd_postfix": ") ",
     "delete_cmd_prefix": "rm(",
     "library": "var_list.r",
     "varRefreshCmd": "cat(var_dic_list()) "
    }
   },
   "types_to_exclude": [
    "module",
    "function",
    "builtin_function_or_method",
    "instance",
    "_Feature"
   ],
   "window_display": false
  }
 },
 "nbformat": 4,
 "nbformat_minor": 1
}
